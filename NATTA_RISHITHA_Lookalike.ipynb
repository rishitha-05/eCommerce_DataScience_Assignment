{
 "cells": [
  {
   "cell_type": "code",
   "execution_count": 1,
   "id": "c284aef4-c1e7-481a-a526-adc8ceb844b1",
   "metadata": {},
   "outputs": [
    {
     "name": "stdout",
     "output_type": "stream",
     "text": [
      "Customers Data:\n",
      "  CustomerID        CustomerName         Region  SignupDate\n",
      "0      C0001    Lawrence Carroll  South America  2022-07-10\n",
      "1      C0002      Elizabeth Lutz           Asia  2022-02-13\n",
      "2      C0003      Michael Rivera  South America  2024-03-07\n",
      "3      C0004  Kathleen Rodriguez  South America  2022-10-09\n",
      "4      C0005         Laura Weber           Asia  2022-08-15\n",
      "\n",
      "Products Data:\n",
      "  ProductID              ProductName     Category   Price\n",
      "0      P001     ActiveWear Biography        Books  169.30\n",
      "1      P002    ActiveWear Smartwatch  Electronics  346.30\n",
      "2      P003  ComfortLiving Biography        Books   44.12\n",
      "3      P004            BookWorld Rug   Home Decor   95.69\n",
      "4      P005          TechPro T-Shirt     Clothing  429.31\n",
      "\n",
      "Transactions Data:\n",
      "  TransactionID CustomerID ProductID      TransactionDate  Quantity  \\\n",
      "0        T00001      C0199      P067  2024-08-25 12:38:23         1   \n",
      "1        T00112      C0146      P067  2024-05-27 22:23:54         1   \n",
      "2        T00166      C0127      P067  2024-04-25 07:38:55         1   \n",
      "3        T00272      C0087      P067  2024-03-26 22:55:37         2   \n",
      "4        T00363      C0070      P067  2024-03-21 15:10:10         3   \n",
      "\n",
      "   TotalValue   Price  \n",
      "0      300.68  300.68  \n",
      "1      300.68  300.68  \n",
      "2      300.68  300.68  \n",
      "3      601.36  300.68  \n",
      "4      902.04  300.68  \n"
     ]
    }
   ],
   "source": [
    "import pandas as pd\n",
    "import numpy as np\n",
    "import matplotlib.pyplot as plt\n",
    "import seaborn as sns\n",
    "%matplotlib inline\n",
    "\n",
    "# Accessing the data from the Google Drive links\n",
    "customers_link = \"https://drive.google.com/uc?export=download&id=1bu_--mo79VdUG9oin4ybfFGRUSXAe-WE\"\n",
    "products_link = \"https://drive.google.com/uc?export=download&id=1IKuDizVapw-hyktwfpoAoaGtHtTNHfd0\"\n",
    "transactions_link = \"https://drive.google.com/uc?export=download&id=1saEqdbBB-vuk2hxoAf4TzDEsykdKlzbF\"\n",
    "\n",
    "# Loading the data directly into pandas DataFrames\n",
    "customers = pd.read_csv(customers_link)\n",
    "products = pd.read_csv(products_link)\n",
    "transactions = pd.read_csv(transactions_link)\n",
    "\n",
    "# Checking the structure of the data\n",
    "print(\"Customers Data:\")\n",
    "print(customers.head())\n",
    "\n",
    "print(\"\\nProducts Data:\")\n",
    "print(products.head())\n",
    "\n",
    "print(\"\\nTransactions Data:\")\n",
    "print(transactions.head())\n"
   ]
  },
  {
   "cell_type": "code",
   "execution_count": 3,
   "id": "b7c4b6f9-c775-4bf3-8a68-94a5c5ffb825",
   "metadata": {},
   "outputs": [],
   "source": [
    "# Converting the 'SignupDate' column to datetime format\n",
    "customers['SignupDate'] = pd.to_datetime(customers['SignupDate'])\n",
    "# Converting the 'TransactionDate' column in the 'transactions' DataFrame to datetime\n",
    "transactions['TransactionDate'] = pd.to_datetime(transactions['TransactionDate'])\n",
    "# Merging datasets\n",
    "# Merging datasets\n",
    "merged_data = transactions.merge(customers, on='CustomerID', how='left') \\\n",
    "                          .merge(products, on='ProductID', how='left', suffixes=('_Transaction', '_Product'))\n",
    "\n",
    "# Now the 'Price' columns from each dataset will be renamed as 'Price_Transaction' and 'Price_Product'"
   ]
  },
  {
   "cell_type": "code",
   "execution_count": 5,
   "id": "c3389449-00bb-41d8-986e-176539a318ec",
   "metadata": {},
   "outputs": [],
   "source": [
    "# Importing necessary libraries for similarity calculation and normalization\n",
    "from sklearn.metrics.pairwise import cosine_similarity\n",
    "from sklearn.preprocessing import MinMaxScaler\n",
    "\n",
    "# Feature engineering with the correct column names\n",
    "customer_features = merged_data.groupby('CustomerID').agg({\n",
    "    'TotalValue': 'sum',  # Total spending by each customer\n",
    "    'Quantity': 'sum',  # Total quantity of items purchased by each customer\n",
    "    'Price_Product': 'mean',  # Average product price from Products dataset\n",
    "    'ProductID': 'nunique'  # Number of unique products bought by each customer\n",
    "}).reset_index()\n",
    "\n",
    "# Renaming columns for better clarity\n",
    "customer_features.columns = ['CustomerID', 'TotalSpent', 'TotalQuantity', 'AvgPrice', 'UniqueProducts']\n",
    "\n",
    "# Normalizing the customer features using Min-Max scaling\n",
    "scaler = MinMaxScaler()  # Creating a scaler to normalize the data\n",
    "features_scaled = scaler.fit_transform(customer_features.iloc[:, 1:])  # Normalizing the feature columns\n",
    "\n",
    "# Computing the cosine similarity between customers based on their feature vectors\n",
    "similarity_matrix = cosine_similarity(features_scaled)  # Creating a similarity matrix\n",
    "similarity_df = pd.DataFrame(similarity_matrix, index=customer_features['CustomerID'], columns=customer_features['CustomerID'])  # Converting to DataFrame for easier handling\n",
    "\n",
    "# Creating a dictionary to store top 3 lookalikes for the first 20 customers\n",
    "lookalike_dict = {}\n",
    "for customer in customer_features['CustomerID'][:20]:\n",
    "    # Sorting the similarities for each customer and selecting top 3 most similar customers\n",
    "    similar_customers = similarity_df[customer].sort_values(ascending=False)[1:4]  # Excluding self (top result)\n",
    "    lookalike_dict[customer] = list(zip(similar_customers.index, similar_customers.values))  # Storing lookalikes\n",
    "\n",
    "# Saving the results (CustomerID and their top 3 lookalikes) to a CSV file\n",
    "lookalike_df = pd.DataFrame({\n",
    "    \"CustomerID\": lookalike_dict.keys(),\n",
    "    \"Lookalikes\": [str(v) for v in lookalike_dict.values()]  # Converting lookalike tuples to string for easy display\n",
    "})\n",
    "lookalike_df.to_csv(\"FirstName_LastName_Lookalike.csv\", index=False)  # Saving the final DataFrame to CSV\n"
   ]
  },
  {
   "cell_type": "code",
   "execution_count": null,
   "id": "1332dd40-7ca3-4f6b-80a5-b281fbd15141",
   "metadata": {},
   "outputs": [],
   "source": []
  }
 ],
 "metadata": {
  "kernelspec": {
   "display_name": "Python 3 (ipykernel)",
   "language": "python",
   "name": "python3"
  },
  "language_info": {
   "codemirror_mode": {
    "name": "ipython",
    "version": 3
   },
   "file_extension": ".py",
   "mimetype": "text/x-python",
   "name": "python",
   "nbconvert_exporter": "python",
   "pygments_lexer": "ipython3",
   "version": "3.12.4"
  }
 },
 "nbformat": 4,
 "nbformat_minor": 5
}
